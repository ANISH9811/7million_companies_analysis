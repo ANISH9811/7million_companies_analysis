{
 "cells": [
  {
   "cell_type": "code",
   "execution_count": 1,
   "id": "04a91102",
   "metadata": {},
   "outputs": [],
   "source": [
    "import pandas as pd\n",
    "import numpy as np\n",
    "import matplotlib.pyplot as plt\n",
    "import numpy as np"
   ]
  },
  {
   "cell_type": "code",
   "execution_count": 2,
   "id": "0538110c",
   "metadata": {},
   "outputs": [],
   "source": [
    "df=pd.read_csv(\"C:/Users/Anish Pathak/Downloads/7million/companies_sorted.csv\")"
   ]
  },
  {
   "cell_type": "code",
   "execution_count": 3,
   "id": "313884e9",
   "metadata": {},
   "outputs": [
    {
     "data": {
      "text/html": [
       "<div>\n",
       "<style scoped>\n",
       "    .dataframe tbody tr th:only-of-type {\n",
       "        vertical-align: middle;\n",
       "    }\n",
       "\n",
       "    .dataframe tbody tr th {\n",
       "        vertical-align: top;\n",
       "    }\n",
       "\n",
       "    .dataframe thead th {\n",
       "        text-align: right;\n",
       "    }\n",
       "</style>\n",
       "<table border=\"1\" class=\"dataframe\">\n",
       "  <thead>\n",
       "    <tr style=\"text-align: right;\">\n",
       "      <th></th>\n",
       "      <th>Unnamed: 0</th>\n",
       "      <th>name</th>\n",
       "      <th>domain</th>\n",
       "      <th>year founded</th>\n",
       "      <th>industry</th>\n",
       "      <th>size range</th>\n",
       "      <th>locality</th>\n",
       "      <th>country</th>\n",
       "      <th>linkedin url</th>\n",
       "      <th>current employee estimate</th>\n",
       "      <th>total employee estimate</th>\n",
       "    </tr>\n",
       "  </thead>\n",
       "  <tbody>\n",
       "    <tr>\n",
       "      <th>0</th>\n",
       "      <td>5872184</td>\n",
       "      <td>ibm</td>\n",
       "      <td>ibm.com</td>\n",
       "      <td>1911.0</td>\n",
       "      <td>information technology and services</td>\n",
       "      <td>10001+</td>\n",
       "      <td>new york, new york, united states</td>\n",
       "      <td>united states</td>\n",
       "      <td>linkedin.com/company/ibm</td>\n",
       "      <td>274047</td>\n",
       "      <td>716906</td>\n",
       "    </tr>\n",
       "    <tr>\n",
       "      <th>1</th>\n",
       "      <td>4425416</td>\n",
       "      <td>tata consultancy services</td>\n",
       "      <td>tcs.com</td>\n",
       "      <td>1968.0</td>\n",
       "      <td>information technology and services</td>\n",
       "      <td>10001+</td>\n",
       "      <td>bombay, maharashtra, india</td>\n",
       "      <td>india</td>\n",
       "      <td>linkedin.com/company/tata-consultancy-services</td>\n",
       "      <td>190771</td>\n",
       "      <td>341369</td>\n",
       "    </tr>\n",
       "    <tr>\n",
       "      <th>2</th>\n",
       "      <td>21074</td>\n",
       "      <td>accenture</td>\n",
       "      <td>accenture.com</td>\n",
       "      <td>1989.0</td>\n",
       "      <td>information technology and services</td>\n",
       "      <td>10001+</td>\n",
       "      <td>dublin, dublin, ireland</td>\n",
       "      <td>ireland</td>\n",
       "      <td>linkedin.com/company/accenture</td>\n",
       "      <td>190689</td>\n",
       "      <td>455768</td>\n",
       "    </tr>\n",
       "    <tr>\n",
       "      <th>3</th>\n",
       "      <td>2309813</td>\n",
       "      <td>us army</td>\n",
       "      <td>goarmy.com</td>\n",
       "      <td>1800.0</td>\n",
       "      <td>military</td>\n",
       "      <td>10001+</td>\n",
       "      <td>alexandria, virginia, united states</td>\n",
       "      <td>united states</td>\n",
       "      <td>linkedin.com/company/us-army</td>\n",
       "      <td>162163</td>\n",
       "      <td>445958</td>\n",
       "    </tr>\n",
       "    <tr>\n",
       "      <th>4</th>\n",
       "      <td>1558607</td>\n",
       "      <td>ey</td>\n",
       "      <td>ey.com</td>\n",
       "      <td>1989.0</td>\n",
       "      <td>accounting</td>\n",
       "      <td>10001+</td>\n",
       "      <td>london, greater london, united kingdom</td>\n",
       "      <td>united kingdom</td>\n",
       "      <td>linkedin.com/company/ernstandyoung</td>\n",
       "      <td>158363</td>\n",
       "      <td>428960</td>\n",
       "    </tr>\n",
       "    <tr>\n",
       "      <th>...</th>\n",
       "      <td>...</td>\n",
       "      <td>...</td>\n",
       "      <td>...</td>\n",
       "      <td>...</td>\n",
       "      <td>...</td>\n",
       "      <td>...</td>\n",
       "      <td>...</td>\n",
       "      <td>...</td>\n",
       "      <td>...</td>\n",
       "      <td>...</td>\n",
       "      <td>...</td>\n",
       "    </tr>\n",
       "    <tr>\n",
       "      <th>7173421</th>\n",
       "      <td>1494427</td>\n",
       "      <td>certiport vouchers</td>\n",
       "      <td>certiportvouchers.com</td>\n",
       "      <td>2011.0</td>\n",
       "      <td>information technology and services</td>\n",
       "      <td>1 - 10</td>\n",
       "      <td>NaN</td>\n",
       "      <td>NaN</td>\n",
       "      <td>linkedin.com/company/certiport-vouchers</td>\n",
       "      <td>0</td>\n",
       "      <td>1</td>\n",
       "    </tr>\n",
       "    <tr>\n",
       "      <th>7173422</th>\n",
       "      <td>1494429</td>\n",
       "      <td>black tiger fight club</td>\n",
       "      <td>blacktigerclub.com</td>\n",
       "      <td>2006.0</td>\n",
       "      <td>health, wellness and fitness</td>\n",
       "      <td>1 - 10</td>\n",
       "      <td>peking, beijing, china</td>\n",
       "      <td>china</td>\n",
       "      <td>linkedin.com/company/black-tiger-club-hero</td>\n",
       "      <td>0</td>\n",
       "      <td>6</td>\n",
       "    </tr>\n",
       "    <tr>\n",
       "      <th>7173423</th>\n",
       "      <td>4768462</td>\n",
       "      <td>catholic bishop of chicago</td>\n",
       "      <td>NaN</td>\n",
       "      <td>NaN</td>\n",
       "      <td>religious institutions</td>\n",
       "      <td>1 - 10</td>\n",
       "      <td>inverness, illinois, united states</td>\n",
       "      <td>united states</td>\n",
       "      <td>linkedin.com/company/catholic-bishop-of-chicago</td>\n",
       "      <td>0</td>\n",
       "      <td>1</td>\n",
       "    </tr>\n",
       "    <tr>\n",
       "      <th>7173424</th>\n",
       "      <td>1494436</td>\n",
       "      <td>medexo robotics ltd</td>\n",
       "      <td>NaN</td>\n",
       "      <td>NaN</td>\n",
       "      <td>research</td>\n",
       "      <td>1 - 10</td>\n",
       "      <td>london, london, united kingdom</td>\n",
       "      <td>united kingdom</td>\n",
       "      <td>linkedin.com/company/medexo-robotics-ltd</td>\n",
       "      <td>0</td>\n",
       "      <td>2</td>\n",
       "    </tr>\n",
       "    <tr>\n",
       "      <th>7173425</th>\n",
       "      <td>2842728</td>\n",
       "      <td>dynamic controls solutions inc</td>\n",
       "      <td>dynamiccontrolssolutions.com</td>\n",
       "      <td>NaN</td>\n",
       "      <td>automotive</td>\n",
       "      <td>1 - 10</td>\n",
       "      <td>wixom, michigan, united states</td>\n",
       "      <td>united states</td>\n",
       "      <td>linkedin.com/company/dynamic-controls-solution...</td>\n",
       "      <td>0</td>\n",
       "      <td>1</td>\n",
       "    </tr>\n",
       "  </tbody>\n",
       "</table>\n",
       "<p>7173426 rows × 11 columns</p>\n",
       "</div>"
      ],
      "text/plain": [
       "         Unnamed: 0                            name  \\\n",
       "0           5872184                             ibm   \n",
       "1           4425416       tata consultancy services   \n",
       "2             21074                       accenture   \n",
       "3           2309813                         us army   \n",
       "4           1558607                              ey   \n",
       "...             ...                             ...   \n",
       "7173421     1494427              certiport vouchers   \n",
       "7173422     1494429          black tiger fight club   \n",
       "7173423     4768462      catholic bishop of chicago   \n",
       "7173424     1494436             medexo robotics ltd   \n",
       "7173425     2842728  dynamic controls solutions inc   \n",
       "\n",
       "                               domain  year founded  \\\n",
       "0                             ibm.com        1911.0   \n",
       "1                             tcs.com        1968.0   \n",
       "2                       accenture.com        1989.0   \n",
       "3                          goarmy.com        1800.0   \n",
       "4                              ey.com        1989.0   \n",
       "...                               ...           ...   \n",
       "7173421         certiportvouchers.com        2011.0   \n",
       "7173422            blacktigerclub.com        2006.0   \n",
       "7173423                           NaN           NaN   \n",
       "7173424                           NaN           NaN   \n",
       "7173425  dynamiccontrolssolutions.com           NaN   \n",
       "\n",
       "                                    industry size range  \\\n",
       "0        information technology and services     10001+   \n",
       "1        information technology and services     10001+   \n",
       "2        information technology and services     10001+   \n",
       "3                                   military     10001+   \n",
       "4                                 accounting     10001+   \n",
       "...                                      ...        ...   \n",
       "7173421  information technology and services     1 - 10   \n",
       "7173422         health, wellness and fitness     1 - 10   \n",
       "7173423               religious institutions     1 - 10   \n",
       "7173424                             research     1 - 10   \n",
       "7173425                           automotive     1 - 10   \n",
       "\n",
       "                                       locality         country  \\\n",
       "0             new york, new york, united states   united states   \n",
       "1                    bombay, maharashtra, india           india   \n",
       "2                       dublin, dublin, ireland         ireland   \n",
       "3           alexandria, virginia, united states   united states   \n",
       "4        london, greater london, united kingdom  united kingdom   \n",
       "...                                         ...             ...   \n",
       "7173421                                     NaN             NaN   \n",
       "7173422                  peking, beijing, china           china   \n",
       "7173423      inverness, illinois, united states   united states   \n",
       "7173424          london, london, united kingdom  united kingdom   \n",
       "7173425          wixom, michigan, united states   united states   \n",
       "\n",
       "                                              linkedin url  \\\n",
       "0                                 linkedin.com/company/ibm   \n",
       "1           linkedin.com/company/tata-consultancy-services   \n",
       "2                           linkedin.com/company/accenture   \n",
       "3                             linkedin.com/company/us-army   \n",
       "4                       linkedin.com/company/ernstandyoung   \n",
       "...                                                    ...   \n",
       "7173421            linkedin.com/company/certiport-vouchers   \n",
       "7173422         linkedin.com/company/black-tiger-club-hero   \n",
       "7173423    linkedin.com/company/catholic-bishop-of-chicago   \n",
       "7173424           linkedin.com/company/medexo-robotics-ltd   \n",
       "7173425  linkedin.com/company/dynamic-controls-solution...   \n",
       "\n",
       "         current employee estimate  total employee estimate  \n",
       "0                           274047                   716906  \n",
       "1                           190771                   341369  \n",
       "2                           190689                   455768  \n",
       "3                           162163                   445958  \n",
       "4                           158363                   428960  \n",
       "...                            ...                      ...  \n",
       "7173421                          0                        1  \n",
       "7173422                          0                        6  \n",
       "7173423                          0                        1  \n",
       "7173424                          0                        2  \n",
       "7173425                          0                        1  \n",
       "\n",
       "[7173426 rows x 11 columns]"
      ]
     },
     "execution_count": 3,
     "metadata": {},
     "output_type": "execute_result"
    }
   ],
   "source": [
    "df"
   ]
  },
  {
   "cell_type": "code",
   "execution_count": 4,
   "id": "f0a13b60",
   "metadata": {},
   "outputs": [],
   "source": [
    "dm=df.head(10)"
   ]
  },
  {
   "cell_type": "markdown",
   "id": "4823e953",
   "metadata": {},
   "source": [
    "### Shape"
   ]
  },
  {
   "cell_type": "code",
   "execution_count": 5,
   "id": "2985a70c",
   "metadata": {},
   "outputs": [
    {
     "data": {
      "text/plain": [
       "(7173426, 11)"
      ]
     },
     "execution_count": 5,
     "metadata": {},
     "output_type": "execute_result"
    }
   ],
   "source": [
    "df.shape"
   ]
  },
  {
   "cell_type": "code",
   "execution_count": 6,
   "id": "68e31a46",
   "metadata": {},
   "outputs": [
    {
     "data": {
      "text/plain": [
       "Unnamed: 0                     int64\n",
       "name                          object\n",
       "domain                        object\n",
       "year founded                 float64\n",
       "industry                      object\n",
       "size range                    object\n",
       "locality                      object\n",
       "country                       object\n",
       "linkedin url                  object\n",
       "current employee estimate      int64\n",
       "total employee estimate        int64\n",
       "dtype: object"
      ]
     },
     "execution_count": 6,
     "metadata": {},
     "output_type": "execute_result"
    }
   ],
   "source": [
    "df.dtypes"
   ]
  },
  {
   "cell_type": "markdown",
   "id": "d34eda68",
   "metadata": {},
   "source": [
    "### SUBSET OF COLUMNS "
   ]
  },
  {
   "cell_type": "code",
   "execution_count": 7,
   "id": "d110afe8",
   "metadata": {},
   "outputs": [],
   "source": [
    "df=pd.read_csv(\"C:/Users/Anish Pathak/Downloads/7million/companies_sorted.csv\", usecols=[0,1,2,3,4,5])"
   ]
  },
  {
   "cell_type": "code",
   "execution_count": 8,
   "id": "d30ac8bf",
   "metadata": {},
   "outputs": [
    {
     "data": {
      "text/html": [
       "<div>\n",
       "<style scoped>\n",
       "    .dataframe tbody tr th:only-of-type {\n",
       "        vertical-align: middle;\n",
       "    }\n",
       "\n",
       "    .dataframe tbody tr th {\n",
       "        vertical-align: top;\n",
       "    }\n",
       "\n",
       "    .dataframe thead th {\n",
       "        text-align: right;\n",
       "    }\n",
       "</style>\n",
       "<table border=\"1\" class=\"dataframe\">\n",
       "  <thead>\n",
       "    <tr style=\"text-align: right;\">\n",
       "      <th></th>\n",
       "      <th>Unnamed: 0</th>\n",
       "      <th>name</th>\n",
       "      <th>domain</th>\n",
       "      <th>year founded</th>\n",
       "      <th>industry</th>\n",
       "      <th>size range</th>\n",
       "    </tr>\n",
       "  </thead>\n",
       "  <tbody>\n",
       "    <tr>\n",
       "      <th>0</th>\n",
       "      <td>5872184</td>\n",
       "      <td>ibm</td>\n",
       "      <td>ibm.com</td>\n",
       "      <td>1911.0</td>\n",
       "      <td>information technology and services</td>\n",
       "      <td>10001+</td>\n",
       "    </tr>\n",
       "    <tr>\n",
       "      <th>1</th>\n",
       "      <td>4425416</td>\n",
       "      <td>tata consultancy services</td>\n",
       "      <td>tcs.com</td>\n",
       "      <td>1968.0</td>\n",
       "      <td>information technology and services</td>\n",
       "      <td>10001+</td>\n",
       "    </tr>\n",
       "    <tr>\n",
       "      <th>2</th>\n",
       "      <td>21074</td>\n",
       "      <td>accenture</td>\n",
       "      <td>accenture.com</td>\n",
       "      <td>1989.0</td>\n",
       "      <td>information technology and services</td>\n",
       "      <td>10001+</td>\n",
       "    </tr>\n",
       "    <tr>\n",
       "      <th>3</th>\n",
       "      <td>2309813</td>\n",
       "      <td>us army</td>\n",
       "      <td>goarmy.com</td>\n",
       "      <td>1800.0</td>\n",
       "      <td>military</td>\n",
       "      <td>10001+</td>\n",
       "    </tr>\n",
       "    <tr>\n",
       "      <th>4</th>\n",
       "      <td>1558607</td>\n",
       "      <td>ey</td>\n",
       "      <td>ey.com</td>\n",
       "      <td>1989.0</td>\n",
       "      <td>accounting</td>\n",
       "      <td>10001+</td>\n",
       "    </tr>\n",
       "    <tr>\n",
       "      <th>...</th>\n",
       "      <td>...</td>\n",
       "      <td>...</td>\n",
       "      <td>...</td>\n",
       "      <td>...</td>\n",
       "      <td>...</td>\n",
       "      <td>...</td>\n",
       "    </tr>\n",
       "    <tr>\n",
       "      <th>7173421</th>\n",
       "      <td>1494427</td>\n",
       "      <td>certiport vouchers</td>\n",
       "      <td>certiportvouchers.com</td>\n",
       "      <td>2011.0</td>\n",
       "      <td>information technology and services</td>\n",
       "      <td>1 - 10</td>\n",
       "    </tr>\n",
       "    <tr>\n",
       "      <th>7173422</th>\n",
       "      <td>1494429</td>\n",
       "      <td>black tiger fight club</td>\n",
       "      <td>blacktigerclub.com</td>\n",
       "      <td>2006.0</td>\n",
       "      <td>health, wellness and fitness</td>\n",
       "      <td>1 - 10</td>\n",
       "    </tr>\n",
       "    <tr>\n",
       "      <th>7173423</th>\n",
       "      <td>4768462</td>\n",
       "      <td>catholic bishop of chicago</td>\n",
       "      <td>NaN</td>\n",
       "      <td>NaN</td>\n",
       "      <td>religious institutions</td>\n",
       "      <td>1 - 10</td>\n",
       "    </tr>\n",
       "    <tr>\n",
       "      <th>7173424</th>\n",
       "      <td>1494436</td>\n",
       "      <td>medexo robotics ltd</td>\n",
       "      <td>NaN</td>\n",
       "      <td>NaN</td>\n",
       "      <td>research</td>\n",
       "      <td>1 - 10</td>\n",
       "    </tr>\n",
       "    <tr>\n",
       "      <th>7173425</th>\n",
       "      <td>2842728</td>\n",
       "      <td>dynamic controls solutions inc</td>\n",
       "      <td>dynamiccontrolssolutions.com</td>\n",
       "      <td>NaN</td>\n",
       "      <td>automotive</td>\n",
       "      <td>1 - 10</td>\n",
       "    </tr>\n",
       "  </tbody>\n",
       "</table>\n",
       "<p>7173426 rows × 6 columns</p>\n",
       "</div>"
      ],
      "text/plain": [
       "         Unnamed: 0                            name  \\\n",
       "0           5872184                             ibm   \n",
       "1           4425416       tata consultancy services   \n",
       "2             21074                       accenture   \n",
       "3           2309813                         us army   \n",
       "4           1558607                              ey   \n",
       "...             ...                             ...   \n",
       "7173421     1494427              certiport vouchers   \n",
       "7173422     1494429          black tiger fight club   \n",
       "7173423     4768462      catholic bishop of chicago   \n",
       "7173424     1494436             medexo robotics ltd   \n",
       "7173425     2842728  dynamic controls solutions inc   \n",
       "\n",
       "                               domain  year founded  \\\n",
       "0                             ibm.com        1911.0   \n",
       "1                             tcs.com        1968.0   \n",
       "2                       accenture.com        1989.0   \n",
       "3                          goarmy.com        1800.0   \n",
       "4                              ey.com        1989.0   \n",
       "...                               ...           ...   \n",
       "7173421         certiportvouchers.com        2011.0   \n",
       "7173422            blacktigerclub.com        2006.0   \n",
       "7173423                           NaN           NaN   \n",
       "7173424                           NaN           NaN   \n",
       "7173425  dynamiccontrolssolutions.com           NaN   \n",
       "\n",
       "                                    industry size range  \n",
       "0        information technology and services     10001+  \n",
       "1        information technology and services     10001+  \n",
       "2        information technology and services     10001+  \n",
       "3                                   military     10001+  \n",
       "4                                 accounting     10001+  \n",
       "...                                      ...        ...  \n",
       "7173421  information technology and services     1 - 10  \n",
       "7173422         health, wellness and fitness     1 - 10  \n",
       "7173423               religious institutions     1 - 10  \n",
       "7173424                             research     1 - 10  \n",
       "7173425                           automotive     1 - 10  \n",
       "\n",
       "[7173426 rows x 6 columns]"
      ]
     },
     "execution_count": 8,
     "metadata": {},
     "output_type": "execute_result"
    }
   ],
   "source": [
    "df"
   ]
  },
  {
   "cell_type": "markdown",
   "id": "ed6b99e3",
   "metadata": {},
   "source": [
    "### INDEXING "
   ]
  },
  {
   "cell_type": "code",
   "execution_count": 9,
   "id": "2112b377",
   "metadata": {},
   "outputs": [
    {
     "data": {
      "text/plain": [
       "0          information technology and services\n",
       "1          information technology and services\n",
       "2          information technology and services\n",
       "3                                     military\n",
       "4                                   accounting\n",
       "                          ...                 \n",
       "7173421    information technology and services\n",
       "7173422           health, wellness and fitness\n",
       "7173423                 religious institutions\n",
       "7173424                               research\n",
       "7173425                             automotive\n",
       "Name: industry, Length: 7173426, dtype: object"
      ]
     },
     "execution_count": 9,
     "metadata": {},
     "output_type": "execute_result"
    }
   ],
   "source": [
    "df['industry']"
   ]
  },
  {
   "cell_type": "code",
   "execution_count": 10,
   "id": "6367849f",
   "metadata": {},
   "outputs": [
    {
     "data": {
      "text/plain": [
       "RangeIndex(start=0, stop=7173426, step=1)"
      ]
     },
     "execution_count": 10,
     "metadata": {},
     "output_type": "execute_result"
    }
   ],
   "source": [
    "df.index"
   ]
  },
  {
   "cell_type": "code",
   "execution_count": 11,
   "id": "f6a9fc5b",
   "metadata": {},
   "outputs": [
    {
     "data": {
      "text/plain": [
       "Unnamed: 0                                  5872184\n",
       "name                                            ibm\n",
       "domain                                      ibm.com\n",
       "year founded                                 1911.0\n",
       "industry        information technology and services\n",
       "size range                                   10001+\n",
       "Name: 0, dtype: object"
      ]
     },
     "execution_count": 11,
     "metadata": {},
     "output_type": "execute_result"
    }
   ],
   "source": [
    "df.loc[0]"
   ]
  },
  {
   "cell_type": "code",
   "execution_count": 12,
   "id": "a48b48a6",
   "metadata": {},
   "outputs": [
    {
     "name": "stdout",
     "output_type": "stream",
     "text": [
      "<class 'pandas.core.frame.DataFrame'>\n",
      "RangeIndex: 7173426 entries, 0 to 7173425\n",
      "Data columns (total 6 columns):\n",
      " #   Column        Dtype  \n",
      "---  ------        -----  \n",
      " 0   Unnamed: 0    int64  \n",
      " 1   name          object \n",
      " 2   domain        object \n",
      " 3   year founded  float64\n",
      " 4   industry      object \n",
      " 5   size range    object \n",
      "dtypes: float64(1), int64(1), object(4)\n",
      "memory usage: 328.4+ MB\n"
     ]
    }
   ],
   "source": [
    "df.info()"
   ]
  },
  {
   "cell_type": "code",
   "execution_count": 13,
   "id": "2c3dba76",
   "metadata": {},
   "outputs": [
    {
     "data": {
      "text/plain": [
       "7173426"
      ]
     },
     "execution_count": 13,
     "metadata": {},
     "output_type": "execute_result"
    }
   ],
   "source": [
    "len(df)"
   ]
  },
  {
   "cell_type": "code",
   "execution_count": 14,
   "id": "98240621",
   "metadata": {},
   "outputs": [
    {
     "data": {
      "text/html": [
       "<div>\n",
       "<style scoped>\n",
       "    .dataframe tbody tr th:only-of-type {\n",
       "        vertical-align: middle;\n",
       "    }\n",
       "\n",
       "    .dataframe tbody tr th {\n",
       "        vertical-align: top;\n",
       "    }\n",
       "\n",
       "    .dataframe thead th {\n",
       "        text-align: right;\n",
       "    }\n",
       "</style>\n",
       "<table border=\"1\" class=\"dataframe\">\n",
       "  <thead>\n",
       "    <tr style=\"text-align: right;\">\n",
       "      <th></th>\n",
       "      <th>Unnamed: 0</th>\n",
       "      <th>name</th>\n",
       "      <th>domain</th>\n",
       "      <th>year founded</th>\n",
       "      <th>industry</th>\n",
       "      <th>size range</th>\n",
       "    </tr>\n",
       "  </thead>\n",
       "  <tbody>\n",
       "  </tbody>\n",
       "</table>\n",
       "</div>"
      ],
      "text/plain": [
       "Empty DataFrame\n",
       "Columns: [Unnamed: 0, name, domain, year founded, industry, size range]\n",
       "Index: []"
      ]
     },
     "execution_count": 14,
     "metadata": {},
     "output_type": "execute_result"
    }
   ],
   "source": [
    "df.loc['ibm':'ey']"
   ]
  },
  {
   "cell_type": "code",
   "execution_count": 15,
   "id": "c5658536",
   "metadata": {},
   "outputs": [
    {
     "data": {
      "text/plain": [
       "Index(['Unnamed: 0', 'name', 'domain', 'year founded', 'industry',\n",
       "       'size range'],\n",
       "      dtype='object')"
      ]
     },
     "execution_count": 15,
     "metadata": {},
     "output_type": "execute_result"
    }
   ],
   "source": [
    "df.columns"
   ]
  },
  {
   "cell_type": "markdown",
   "id": "524b6f8e",
   "metadata": {},
   "source": [
    "### FIND NULL VALUES"
   ]
  },
  {
   "cell_type": "code",
   "execution_count": 16,
   "id": "11a4399f",
   "metadata": {},
   "outputs": [
    {
     "data": {
      "text/html": [
       "<div>\n",
       "<style scoped>\n",
       "    .dataframe tbody tr th:only-of-type {\n",
       "        vertical-align: middle;\n",
       "    }\n",
       "\n",
       "    .dataframe tbody tr th {\n",
       "        vertical-align: top;\n",
       "    }\n",
       "\n",
       "    .dataframe thead th {\n",
       "        text-align: right;\n",
       "    }\n",
       "</style>\n",
       "<table border=\"1\" class=\"dataframe\">\n",
       "  <thead>\n",
       "    <tr style=\"text-align: right;\">\n",
       "      <th></th>\n",
       "      <th>Unnamed: 0</th>\n",
       "      <th>name</th>\n",
       "      <th>domain</th>\n",
       "      <th>year founded</th>\n",
       "      <th>industry</th>\n",
       "      <th>size range</th>\n",
       "    </tr>\n",
       "  </thead>\n",
       "  <tbody>\n",
       "    <tr>\n",
       "      <th>0</th>\n",
       "      <td>False</td>\n",
       "      <td>False</td>\n",
       "      <td>False</td>\n",
       "      <td>False</td>\n",
       "      <td>False</td>\n",
       "      <td>False</td>\n",
       "    </tr>\n",
       "    <tr>\n",
       "      <th>1</th>\n",
       "      <td>False</td>\n",
       "      <td>False</td>\n",
       "      <td>False</td>\n",
       "      <td>False</td>\n",
       "      <td>False</td>\n",
       "      <td>False</td>\n",
       "    </tr>\n",
       "    <tr>\n",
       "      <th>2</th>\n",
       "      <td>False</td>\n",
       "      <td>False</td>\n",
       "      <td>False</td>\n",
       "      <td>False</td>\n",
       "      <td>False</td>\n",
       "      <td>False</td>\n",
       "    </tr>\n",
       "    <tr>\n",
       "      <th>3</th>\n",
       "      <td>False</td>\n",
       "      <td>False</td>\n",
       "      <td>False</td>\n",
       "      <td>False</td>\n",
       "      <td>False</td>\n",
       "      <td>False</td>\n",
       "    </tr>\n",
       "    <tr>\n",
       "      <th>4</th>\n",
       "      <td>False</td>\n",
       "      <td>False</td>\n",
       "      <td>False</td>\n",
       "      <td>False</td>\n",
       "      <td>False</td>\n",
       "      <td>False</td>\n",
       "    </tr>\n",
       "    <tr>\n",
       "      <th>...</th>\n",
       "      <td>...</td>\n",
       "      <td>...</td>\n",
       "      <td>...</td>\n",
       "      <td>...</td>\n",
       "      <td>...</td>\n",
       "      <td>...</td>\n",
       "    </tr>\n",
       "    <tr>\n",
       "      <th>7173421</th>\n",
       "      <td>False</td>\n",
       "      <td>False</td>\n",
       "      <td>False</td>\n",
       "      <td>False</td>\n",
       "      <td>False</td>\n",
       "      <td>False</td>\n",
       "    </tr>\n",
       "    <tr>\n",
       "      <th>7173422</th>\n",
       "      <td>False</td>\n",
       "      <td>False</td>\n",
       "      <td>False</td>\n",
       "      <td>False</td>\n",
       "      <td>False</td>\n",
       "      <td>False</td>\n",
       "    </tr>\n",
       "    <tr>\n",
       "      <th>7173423</th>\n",
       "      <td>False</td>\n",
       "      <td>False</td>\n",
       "      <td>True</td>\n",
       "      <td>True</td>\n",
       "      <td>False</td>\n",
       "      <td>False</td>\n",
       "    </tr>\n",
       "    <tr>\n",
       "      <th>7173424</th>\n",
       "      <td>False</td>\n",
       "      <td>False</td>\n",
       "      <td>True</td>\n",
       "      <td>True</td>\n",
       "      <td>False</td>\n",
       "      <td>False</td>\n",
       "    </tr>\n",
       "    <tr>\n",
       "      <th>7173425</th>\n",
       "      <td>False</td>\n",
       "      <td>False</td>\n",
       "      <td>False</td>\n",
       "      <td>True</td>\n",
       "      <td>False</td>\n",
       "      <td>False</td>\n",
       "    </tr>\n",
       "  </tbody>\n",
       "</table>\n",
       "<p>7173426 rows × 6 columns</p>\n",
       "</div>"
      ],
      "text/plain": [
       "         Unnamed: 0   name  domain  year founded  industry  size range\n",
       "0             False  False   False         False     False       False\n",
       "1             False  False   False         False     False       False\n",
       "2             False  False   False         False     False       False\n",
       "3             False  False   False         False     False       False\n",
       "4             False  False   False         False     False       False\n",
       "...             ...    ...     ...           ...       ...         ...\n",
       "7173421       False  False   False         False     False       False\n",
       "7173422       False  False   False         False     False       False\n",
       "7173423       False  False    True          True     False       False\n",
       "7173424       False  False    True          True     False       False\n",
       "7173425       False  False   False          True     False       False\n",
       "\n",
       "[7173426 rows x 6 columns]"
      ]
     },
     "execution_count": 16,
     "metadata": {},
     "output_type": "execute_result"
    }
   ],
   "source": [
    "df.isnull()"
   ]
  },
  {
   "cell_type": "code",
   "execution_count": 17,
   "id": "58fc526d",
   "metadata": {},
   "outputs": [
    {
     "data": {
      "text/plain": [
       "Unnamed: 0            0\n",
       "name                  3\n",
       "domain          1650621\n",
       "year founded    3606980\n",
       "industry         290003\n",
       "size range            0\n",
       "dtype: int64"
      ]
     },
     "execution_count": 17,
     "metadata": {},
     "output_type": "execute_result"
    }
   ],
   "source": [
    "df.isnull().sum()"
   ]
  },
  {
   "cell_type": "code",
   "execution_count": 18,
   "id": "3797de62",
   "metadata": {},
   "outputs": [],
   "source": [
    "missing_value=[\"NaN\",np.nan]\n",
    "df=pd.read_csv(\"C:/Users/Anish Pathak/Downloads/7million/companies_sorted.csv\", na_values=missing_value)"
   ]
  },
  {
   "cell_type": "code",
   "execution_count": 19,
   "id": "9a864c0a",
   "metadata": {},
   "outputs": [
    {
     "data": {
      "text/plain": [
       "Unnamed: 0                         0\n",
       "name                               3\n",
       "domain                       1650621\n",
       "year founded                 3606980\n",
       "industry                      290003\n",
       "size range                         0\n",
       "locality                     2508825\n",
       "country                      2349207\n",
       "linkedin url                       0\n",
       "current employee estimate          0\n",
       "total employee estimate            0\n",
       "dtype: int64"
      ]
     },
     "execution_count": 19,
     "metadata": {},
     "output_type": "execute_result"
    }
   ],
   "source": [
    "df.isnull().sum()"
   ]
  },
  {
   "cell_type": "code",
   "execution_count": 20,
   "id": "417b2a3c",
   "metadata": {},
   "outputs": [
    {
     "data": {
      "text/plain": [
       "Unnamed: 0                   False\n",
       "name                          True\n",
       "domain                        True\n",
       "year founded                  True\n",
       "industry                      True\n",
       "size range                   False\n",
       "locality                      True\n",
       "country                       True\n",
       "linkedin url                 False\n",
       "current employee estimate    False\n",
       "total employee estimate      False\n",
       "dtype: bool"
      ]
     },
     "execution_count": 20,
     "metadata": {},
     "output_type": "execute_result"
    }
   ],
   "source": [
    "df.isnull().any()"
   ]
  },
  {
   "cell_type": "code",
   "execution_count": 21,
   "id": "55daadb1",
   "metadata": {},
   "outputs": [],
   "source": [
    "import seaborn as sns"
   ]
  },
  {
   "cell_type": "code",
   "execution_count": 22,
   "id": "76138d12",
   "metadata": {},
   "outputs": [
    {
     "data": {
      "text/html": [
       "<div>\n",
       "<style scoped>\n",
       "    .dataframe tbody tr th:only-of-type {\n",
       "        vertical-align: middle;\n",
       "    }\n",
       "\n",
       "    .dataframe tbody tr th {\n",
       "        vertical-align: top;\n",
       "    }\n",
       "\n",
       "    .dataframe thead th {\n",
       "        text-align: right;\n",
       "    }\n",
       "</style>\n",
       "<table border=\"1\" class=\"dataframe\">\n",
       "  <thead>\n",
       "    <tr style=\"text-align: right;\">\n",
       "      <th></th>\n",
       "      <th>Unnamed: 0</th>\n",
       "      <th>name</th>\n",
       "      <th>domain</th>\n",
       "      <th>year founded</th>\n",
       "      <th>industry</th>\n",
       "      <th>size range</th>\n",
       "      <th>locality</th>\n",
       "      <th>country</th>\n",
       "      <th>linkedin url</th>\n",
       "      <th>current employee estimate</th>\n",
       "      <th>total employee estimate</th>\n",
       "    </tr>\n",
       "  </thead>\n",
       "  <tbody>\n",
       "    <tr>\n",
       "      <th>0</th>\n",
       "      <td>5872184</td>\n",
       "      <td>ibm</td>\n",
       "      <td>ibm.com</td>\n",
       "      <td>1911.0</td>\n",
       "      <td>information technology and services</td>\n",
       "      <td>10001+</td>\n",
       "      <td>new york, new york, united states</td>\n",
       "      <td>united states</td>\n",
       "      <td>linkedin.com/company/ibm</td>\n",
       "      <td>274047</td>\n",
       "      <td>716906</td>\n",
       "    </tr>\n",
       "    <tr>\n",
       "      <th>1</th>\n",
       "      <td>4425416</td>\n",
       "      <td>tata consultancy services</td>\n",
       "      <td>tcs.com</td>\n",
       "      <td>1968.0</td>\n",
       "      <td>information technology and services</td>\n",
       "      <td>10001+</td>\n",
       "      <td>bombay, maharashtra, india</td>\n",
       "      <td>india</td>\n",
       "      <td>linkedin.com/company/tata-consultancy-services</td>\n",
       "      <td>190771</td>\n",
       "      <td>341369</td>\n",
       "    </tr>\n",
       "    <tr>\n",
       "      <th>2</th>\n",
       "      <td>21074</td>\n",
       "      <td>accenture</td>\n",
       "      <td>accenture.com</td>\n",
       "      <td>1989.0</td>\n",
       "      <td>information technology and services</td>\n",
       "      <td>10001+</td>\n",
       "      <td>dublin, dublin, ireland</td>\n",
       "      <td>ireland</td>\n",
       "      <td>linkedin.com/company/accenture</td>\n",
       "      <td>190689</td>\n",
       "      <td>455768</td>\n",
       "    </tr>\n",
       "    <tr>\n",
       "      <th>3</th>\n",
       "      <td>2309813</td>\n",
       "      <td>us army</td>\n",
       "      <td>goarmy.com</td>\n",
       "      <td>1800.0</td>\n",
       "      <td>military</td>\n",
       "      <td>10001+</td>\n",
       "      <td>alexandria, virginia, united states</td>\n",
       "      <td>united states</td>\n",
       "      <td>linkedin.com/company/us-army</td>\n",
       "      <td>162163</td>\n",
       "      <td>445958</td>\n",
       "    </tr>\n",
       "    <tr>\n",
       "      <th>4</th>\n",
       "      <td>1558607</td>\n",
       "      <td>ey</td>\n",
       "      <td>ey.com</td>\n",
       "      <td>1989.0</td>\n",
       "      <td>accounting</td>\n",
       "      <td>10001+</td>\n",
       "      <td>london, greater london, united kingdom</td>\n",
       "      <td>united kingdom</td>\n",
       "      <td>linkedin.com/company/ernstandyoung</td>\n",
       "      <td>158363</td>\n",
       "      <td>428960</td>\n",
       "    </tr>\n",
       "    <tr>\n",
       "      <th>...</th>\n",
       "      <td>...</td>\n",
       "      <td>...</td>\n",
       "      <td>...</td>\n",
       "      <td>...</td>\n",
       "      <td>...</td>\n",
       "      <td>...</td>\n",
       "      <td>...</td>\n",
       "      <td>...</td>\n",
       "      <td>...</td>\n",
       "      <td>...</td>\n",
       "      <td>...</td>\n",
       "    </tr>\n",
       "    <tr>\n",
       "      <th>7173421</th>\n",
       "      <td>1494427</td>\n",
       "      <td>certiport vouchers</td>\n",
       "      <td>certiportvouchers.com</td>\n",
       "      <td>2011.0</td>\n",
       "      <td>information technology and services</td>\n",
       "      <td>1 - 10</td>\n",
       "      <td>NaN</td>\n",
       "      <td>NaN</td>\n",
       "      <td>linkedin.com/company/certiport-vouchers</td>\n",
       "      <td>0</td>\n",
       "      <td>1</td>\n",
       "    </tr>\n",
       "    <tr>\n",
       "      <th>7173422</th>\n",
       "      <td>1494429</td>\n",
       "      <td>black tiger fight club</td>\n",
       "      <td>blacktigerclub.com</td>\n",
       "      <td>2006.0</td>\n",
       "      <td>health, wellness and fitness</td>\n",
       "      <td>1 - 10</td>\n",
       "      <td>peking, beijing, china</td>\n",
       "      <td>china</td>\n",
       "      <td>linkedin.com/company/black-tiger-club-hero</td>\n",
       "      <td>0</td>\n",
       "      <td>6</td>\n",
       "    </tr>\n",
       "    <tr>\n",
       "      <th>7173423</th>\n",
       "      <td>4768462</td>\n",
       "      <td>catholic bishop of chicago</td>\n",
       "      <td>NaN</td>\n",
       "      <td>NaN</td>\n",
       "      <td>religious institutions</td>\n",
       "      <td>1 - 10</td>\n",
       "      <td>inverness, illinois, united states</td>\n",
       "      <td>united states</td>\n",
       "      <td>linkedin.com/company/catholic-bishop-of-chicago</td>\n",
       "      <td>0</td>\n",
       "      <td>1</td>\n",
       "    </tr>\n",
       "    <tr>\n",
       "      <th>7173424</th>\n",
       "      <td>1494436</td>\n",
       "      <td>medexo robotics ltd</td>\n",
       "      <td>NaN</td>\n",
       "      <td>NaN</td>\n",
       "      <td>research</td>\n",
       "      <td>1 - 10</td>\n",
       "      <td>london, london, united kingdom</td>\n",
       "      <td>united kingdom</td>\n",
       "      <td>linkedin.com/company/medexo-robotics-ltd</td>\n",
       "      <td>0</td>\n",
       "      <td>2</td>\n",
       "    </tr>\n",
       "    <tr>\n",
       "      <th>7173425</th>\n",
       "      <td>2842728</td>\n",
       "      <td>dynamic controls solutions inc</td>\n",
       "      <td>dynamiccontrolssolutions.com</td>\n",
       "      <td>NaN</td>\n",
       "      <td>automotive</td>\n",
       "      <td>1 - 10</td>\n",
       "      <td>wixom, michigan, united states</td>\n",
       "      <td>united states</td>\n",
       "      <td>linkedin.com/company/dynamic-controls-solution...</td>\n",
       "      <td>0</td>\n",
       "      <td>1</td>\n",
       "    </tr>\n",
       "  </tbody>\n",
       "</table>\n",
       "<p>7173426 rows × 11 columns</p>\n",
       "</div>"
      ],
      "text/plain": [
       "         Unnamed: 0                            name  \\\n",
       "0           5872184                             ibm   \n",
       "1           4425416       tata consultancy services   \n",
       "2             21074                       accenture   \n",
       "3           2309813                         us army   \n",
       "4           1558607                              ey   \n",
       "...             ...                             ...   \n",
       "7173421     1494427              certiport vouchers   \n",
       "7173422     1494429          black tiger fight club   \n",
       "7173423     4768462      catholic bishop of chicago   \n",
       "7173424     1494436             medexo robotics ltd   \n",
       "7173425     2842728  dynamic controls solutions inc   \n",
       "\n",
       "                               domain  year founded  \\\n",
       "0                             ibm.com        1911.0   \n",
       "1                             tcs.com        1968.0   \n",
       "2                       accenture.com        1989.0   \n",
       "3                          goarmy.com        1800.0   \n",
       "4                              ey.com        1989.0   \n",
       "...                               ...           ...   \n",
       "7173421         certiportvouchers.com        2011.0   \n",
       "7173422            blacktigerclub.com        2006.0   \n",
       "7173423                           NaN           NaN   \n",
       "7173424                           NaN           NaN   \n",
       "7173425  dynamiccontrolssolutions.com           NaN   \n",
       "\n",
       "                                    industry size range  \\\n",
       "0        information technology and services     10001+   \n",
       "1        information technology and services     10001+   \n",
       "2        information technology and services     10001+   \n",
       "3                                   military     10001+   \n",
       "4                                 accounting     10001+   \n",
       "...                                      ...        ...   \n",
       "7173421  information technology and services     1 - 10   \n",
       "7173422         health, wellness and fitness     1 - 10   \n",
       "7173423               religious institutions     1 - 10   \n",
       "7173424                             research     1 - 10   \n",
       "7173425                           automotive     1 - 10   \n",
       "\n",
       "                                       locality         country  \\\n",
       "0             new york, new york, united states   united states   \n",
       "1                    bombay, maharashtra, india           india   \n",
       "2                       dublin, dublin, ireland         ireland   \n",
       "3           alexandria, virginia, united states   united states   \n",
       "4        london, greater london, united kingdom  united kingdom   \n",
       "...                                         ...             ...   \n",
       "7173421                                     NaN             NaN   \n",
       "7173422                  peking, beijing, china           china   \n",
       "7173423      inverness, illinois, united states   united states   \n",
       "7173424          london, london, united kingdom  united kingdom   \n",
       "7173425          wixom, michigan, united states   united states   \n",
       "\n",
       "                                              linkedin url  \\\n",
       "0                                 linkedin.com/company/ibm   \n",
       "1           linkedin.com/company/tata-consultancy-services   \n",
       "2                           linkedin.com/company/accenture   \n",
       "3                             linkedin.com/company/us-army   \n",
       "4                       linkedin.com/company/ernstandyoung   \n",
       "...                                                    ...   \n",
       "7173421            linkedin.com/company/certiport-vouchers   \n",
       "7173422         linkedin.com/company/black-tiger-club-hero   \n",
       "7173423    linkedin.com/company/catholic-bishop-of-chicago   \n",
       "7173424           linkedin.com/company/medexo-robotics-ltd   \n",
       "7173425  linkedin.com/company/dynamic-controls-solution...   \n",
       "\n",
       "         current employee estimate  total employee estimate  \n",
       "0                           274047                   716906  \n",
       "1                           190771                   341369  \n",
       "2                           190689                   455768  \n",
       "3                           162163                   445958  \n",
       "4                           158363                   428960  \n",
       "...                            ...                      ...  \n",
       "7173421                          0                        1  \n",
       "7173422                          0                        6  \n",
       "7173423                          0                        1  \n",
       "7173424                          0                        2  \n",
       "7173425                          0                        1  \n",
       "\n",
       "[7173426 rows x 11 columns]"
      ]
     },
     "execution_count": 22,
     "metadata": {},
     "output_type": "execute_result"
    }
   ],
   "source": [
    "df.dropna(how='all') "
   ]
  },
  {
   "cell_type": "code",
   "execution_count": 23,
   "id": "a86f893a",
   "metadata": {},
   "outputs": [
    {
     "data": {
      "text/html": [
       "<div>\n",
       "<style scoped>\n",
       "    .dataframe tbody tr th:only-of-type {\n",
       "        vertical-align: middle;\n",
       "    }\n",
       "\n",
       "    .dataframe tbody tr th {\n",
       "        vertical-align: top;\n",
       "    }\n",
       "\n",
       "    .dataframe thead th {\n",
       "        text-align: right;\n",
       "    }\n",
       "</style>\n",
       "<table border=\"1\" class=\"dataframe\">\n",
       "  <thead>\n",
       "    <tr style=\"text-align: right;\">\n",
       "      <th></th>\n",
       "      <th>Unnamed: 0</th>\n",
       "      <th>name</th>\n",
       "      <th>domain</th>\n",
       "      <th>year founded</th>\n",
       "      <th>industry</th>\n",
       "      <th>size range</th>\n",
       "      <th>locality</th>\n",
       "      <th>country</th>\n",
       "      <th>linkedin url</th>\n",
       "      <th>current employee estimate</th>\n",
       "      <th>total employee estimate</th>\n",
       "    </tr>\n",
       "  </thead>\n",
       "  <tbody>\n",
       "    <tr>\n",
       "      <th>0</th>\n",
       "      <td>5872184</td>\n",
       "      <td>ibm</td>\n",
       "      <td>ibm.com</td>\n",
       "      <td>1911.0</td>\n",
       "      <td>information technology and services</td>\n",
       "      <td>10001+</td>\n",
       "      <td>new york, new york, united states</td>\n",
       "      <td>united states</td>\n",
       "      <td>linkedin.com/company/ibm</td>\n",
       "      <td>274047</td>\n",
       "      <td>716906</td>\n",
       "    </tr>\n",
       "    <tr>\n",
       "      <th>1</th>\n",
       "      <td>4425416</td>\n",
       "      <td>tata consultancy services</td>\n",
       "      <td>tcs.com</td>\n",
       "      <td>1968.0</td>\n",
       "      <td>information technology and services</td>\n",
       "      <td>10001+</td>\n",
       "      <td>bombay, maharashtra, india</td>\n",
       "      <td>india</td>\n",
       "      <td>linkedin.com/company/tata-consultancy-services</td>\n",
       "      <td>190771</td>\n",
       "      <td>341369</td>\n",
       "    </tr>\n",
       "    <tr>\n",
       "      <th>2</th>\n",
       "      <td>21074</td>\n",
       "      <td>accenture</td>\n",
       "      <td>accenture.com</td>\n",
       "      <td>1989.0</td>\n",
       "      <td>information technology and services</td>\n",
       "      <td>10001+</td>\n",
       "      <td>dublin, dublin, ireland</td>\n",
       "      <td>ireland</td>\n",
       "      <td>linkedin.com/company/accenture</td>\n",
       "      <td>190689</td>\n",
       "      <td>455768</td>\n",
       "    </tr>\n",
       "    <tr>\n",
       "      <th>3</th>\n",
       "      <td>2309813</td>\n",
       "      <td>us army</td>\n",
       "      <td>goarmy.com</td>\n",
       "      <td>1800.0</td>\n",
       "      <td>military</td>\n",
       "      <td>10001+</td>\n",
       "      <td>alexandria, virginia, united states</td>\n",
       "      <td>united states</td>\n",
       "      <td>linkedin.com/company/us-army</td>\n",
       "      <td>162163</td>\n",
       "      <td>445958</td>\n",
       "    </tr>\n",
       "    <tr>\n",
       "      <th>4</th>\n",
       "      <td>1558607</td>\n",
       "      <td>ey</td>\n",
       "      <td>ey.com</td>\n",
       "      <td>1989.0</td>\n",
       "      <td>accounting</td>\n",
       "      <td>10001+</td>\n",
       "      <td>london, greater london, united kingdom</td>\n",
       "      <td>united kingdom</td>\n",
       "      <td>linkedin.com/company/ernstandyoung</td>\n",
       "      <td>158363</td>\n",
       "      <td>428960</td>\n",
       "    </tr>\n",
       "    <tr>\n",
       "      <th>...</th>\n",
       "      <td>...</td>\n",
       "      <td>...</td>\n",
       "      <td>...</td>\n",
       "      <td>...</td>\n",
       "      <td>...</td>\n",
       "      <td>...</td>\n",
       "      <td>...</td>\n",
       "      <td>...</td>\n",
       "      <td>...</td>\n",
       "      <td>...</td>\n",
       "      <td>...</td>\n",
       "    </tr>\n",
       "    <tr>\n",
       "      <th>7173421</th>\n",
       "      <td>1494427</td>\n",
       "      <td>certiport vouchers</td>\n",
       "      <td>certiportvouchers.com</td>\n",
       "      <td>2011.0</td>\n",
       "      <td>information technology and services</td>\n",
       "      <td>1 - 10</td>\n",
       "      <td>0</td>\n",
       "      <td>0</td>\n",
       "      <td>linkedin.com/company/certiport-vouchers</td>\n",
       "      <td>0</td>\n",
       "      <td>1</td>\n",
       "    </tr>\n",
       "    <tr>\n",
       "      <th>7173422</th>\n",
       "      <td>1494429</td>\n",
       "      <td>black tiger fight club</td>\n",
       "      <td>blacktigerclub.com</td>\n",
       "      <td>2006.0</td>\n",
       "      <td>health, wellness and fitness</td>\n",
       "      <td>1 - 10</td>\n",
       "      <td>peking, beijing, china</td>\n",
       "      <td>china</td>\n",
       "      <td>linkedin.com/company/black-tiger-club-hero</td>\n",
       "      <td>0</td>\n",
       "      <td>6</td>\n",
       "    </tr>\n",
       "    <tr>\n",
       "      <th>7173423</th>\n",
       "      <td>4768462</td>\n",
       "      <td>catholic bishop of chicago</td>\n",
       "      <td>0</td>\n",
       "      <td>0.0</td>\n",
       "      <td>religious institutions</td>\n",
       "      <td>1 - 10</td>\n",
       "      <td>inverness, illinois, united states</td>\n",
       "      <td>united states</td>\n",
       "      <td>linkedin.com/company/catholic-bishop-of-chicago</td>\n",
       "      <td>0</td>\n",
       "      <td>1</td>\n",
       "    </tr>\n",
       "    <tr>\n",
       "      <th>7173424</th>\n",
       "      <td>1494436</td>\n",
       "      <td>medexo robotics ltd</td>\n",
       "      <td>0</td>\n",
       "      <td>0.0</td>\n",
       "      <td>research</td>\n",
       "      <td>1 - 10</td>\n",
       "      <td>london, london, united kingdom</td>\n",
       "      <td>united kingdom</td>\n",
       "      <td>linkedin.com/company/medexo-robotics-ltd</td>\n",
       "      <td>0</td>\n",
       "      <td>2</td>\n",
       "    </tr>\n",
       "    <tr>\n",
       "      <th>7173425</th>\n",
       "      <td>2842728</td>\n",
       "      <td>dynamic controls solutions inc</td>\n",
       "      <td>dynamiccontrolssolutions.com</td>\n",
       "      <td>0.0</td>\n",
       "      <td>automotive</td>\n",
       "      <td>1 - 10</td>\n",
       "      <td>wixom, michigan, united states</td>\n",
       "      <td>united states</td>\n",
       "      <td>linkedin.com/company/dynamic-controls-solution...</td>\n",
       "      <td>0</td>\n",
       "      <td>1</td>\n",
       "    </tr>\n",
       "  </tbody>\n",
       "</table>\n",
       "<p>7173426 rows × 11 columns</p>\n",
       "</div>"
      ],
      "text/plain": [
       "         Unnamed: 0                            name  \\\n",
       "0           5872184                             ibm   \n",
       "1           4425416       tata consultancy services   \n",
       "2             21074                       accenture   \n",
       "3           2309813                         us army   \n",
       "4           1558607                              ey   \n",
       "...             ...                             ...   \n",
       "7173421     1494427              certiport vouchers   \n",
       "7173422     1494429          black tiger fight club   \n",
       "7173423     4768462      catholic bishop of chicago   \n",
       "7173424     1494436             medexo robotics ltd   \n",
       "7173425     2842728  dynamic controls solutions inc   \n",
       "\n",
       "                               domain  year founded  \\\n",
       "0                             ibm.com        1911.0   \n",
       "1                             tcs.com        1968.0   \n",
       "2                       accenture.com        1989.0   \n",
       "3                          goarmy.com        1800.0   \n",
       "4                              ey.com        1989.0   \n",
       "...                               ...           ...   \n",
       "7173421         certiportvouchers.com        2011.0   \n",
       "7173422            blacktigerclub.com        2006.0   \n",
       "7173423                             0           0.0   \n",
       "7173424                             0           0.0   \n",
       "7173425  dynamiccontrolssolutions.com           0.0   \n",
       "\n",
       "                                    industry size range  \\\n",
       "0        information technology and services     10001+   \n",
       "1        information technology and services     10001+   \n",
       "2        information technology and services     10001+   \n",
       "3                                   military     10001+   \n",
       "4                                 accounting     10001+   \n",
       "...                                      ...        ...   \n",
       "7173421  information technology and services     1 - 10   \n",
       "7173422         health, wellness and fitness     1 - 10   \n",
       "7173423               religious institutions     1 - 10   \n",
       "7173424                             research     1 - 10   \n",
       "7173425                           automotive     1 - 10   \n",
       "\n",
       "                                       locality         country  \\\n",
       "0             new york, new york, united states   united states   \n",
       "1                    bombay, maharashtra, india           india   \n",
       "2                       dublin, dublin, ireland         ireland   \n",
       "3           alexandria, virginia, united states   united states   \n",
       "4        london, greater london, united kingdom  united kingdom   \n",
       "...                                         ...             ...   \n",
       "7173421                                       0               0   \n",
       "7173422                  peking, beijing, china           china   \n",
       "7173423      inverness, illinois, united states   united states   \n",
       "7173424          london, london, united kingdom  united kingdom   \n",
       "7173425          wixom, michigan, united states   united states   \n",
       "\n",
       "                                              linkedin url  \\\n",
       "0                                 linkedin.com/company/ibm   \n",
       "1           linkedin.com/company/tata-consultancy-services   \n",
       "2                           linkedin.com/company/accenture   \n",
       "3                             linkedin.com/company/us-army   \n",
       "4                       linkedin.com/company/ernstandyoung   \n",
       "...                                                    ...   \n",
       "7173421            linkedin.com/company/certiport-vouchers   \n",
       "7173422         linkedin.com/company/black-tiger-club-hero   \n",
       "7173423    linkedin.com/company/catholic-bishop-of-chicago   \n",
       "7173424           linkedin.com/company/medexo-robotics-ltd   \n",
       "7173425  linkedin.com/company/dynamic-controls-solution...   \n",
       "\n",
       "         current employee estimate  total employee estimate  \n",
       "0                           274047                   716906  \n",
       "1                           190771                   341369  \n",
       "2                           190689                   455768  \n",
       "3                           162163                   445958  \n",
       "4                           158363                   428960  \n",
       "...                            ...                      ...  \n",
       "7173421                          0                        1  \n",
       "7173422                          0                        6  \n",
       "7173423                          0                        1  \n",
       "7173424                          0                        2  \n",
       "7173425                          0                        1  \n",
       "\n",
       "[7173426 rows x 11 columns]"
      ]
     },
     "execution_count": 23,
     "metadata": {},
     "output_type": "execute_result"
    }
   ],
   "source": [
    "df.fillna(0)"
   ]
  },
  {
   "cell_type": "code",
   "execution_count": 24,
   "id": "3169366e",
   "metadata": {},
   "outputs": [],
   "source": [
    "df_dropped=df.dropna()"
   ]
  },
  {
   "cell_type": "code",
   "execution_count": 25,
   "id": "52a1a326",
   "metadata": {},
   "outputs": [
    {
     "data": {
      "text/html": [
       "<div>\n",
       "<style scoped>\n",
       "    .dataframe tbody tr th:only-of-type {\n",
       "        vertical-align: middle;\n",
       "    }\n",
       "\n",
       "    .dataframe tbody tr th {\n",
       "        vertical-align: top;\n",
       "    }\n",
       "\n",
       "    .dataframe thead th {\n",
       "        text-align: right;\n",
       "    }\n",
       "</style>\n",
       "<table border=\"1\" class=\"dataframe\">\n",
       "  <thead>\n",
       "    <tr style=\"text-align: right;\">\n",
       "      <th></th>\n",
       "      <th>Unnamed: 0</th>\n",
       "      <th>name</th>\n",
       "      <th>domain</th>\n",
       "      <th>year founded</th>\n",
       "      <th>industry</th>\n",
       "      <th>size range</th>\n",
       "      <th>locality</th>\n",
       "      <th>country</th>\n",
       "      <th>linkedin url</th>\n",
       "      <th>current employee estimate</th>\n",
       "      <th>total employee estimate</th>\n",
       "    </tr>\n",
       "  </thead>\n",
       "  <tbody>\n",
       "    <tr>\n",
       "      <th>0</th>\n",
       "      <td>5872184</td>\n",
       "      <td>ibm</td>\n",
       "      <td>ibm.com</td>\n",
       "      <td>1911.0</td>\n",
       "      <td>information technology and services</td>\n",
       "      <td>10001+</td>\n",
       "      <td>new york, new york, united states</td>\n",
       "      <td>united states</td>\n",
       "      <td>linkedin.com/company/ibm</td>\n",
       "      <td>274047</td>\n",
       "      <td>716906</td>\n",
       "    </tr>\n",
       "    <tr>\n",
       "      <th>1</th>\n",
       "      <td>4425416</td>\n",
       "      <td>tata consultancy services</td>\n",
       "      <td>tcs.com</td>\n",
       "      <td>1968.0</td>\n",
       "      <td>information technology and services</td>\n",
       "      <td>10001+</td>\n",
       "      <td>bombay, maharashtra, india</td>\n",
       "      <td>india</td>\n",
       "      <td>linkedin.com/company/tata-consultancy-services</td>\n",
       "      <td>190771</td>\n",
       "      <td>341369</td>\n",
       "    </tr>\n",
       "    <tr>\n",
       "      <th>2</th>\n",
       "      <td>21074</td>\n",
       "      <td>accenture</td>\n",
       "      <td>accenture.com</td>\n",
       "      <td>1989.0</td>\n",
       "      <td>information technology and services</td>\n",
       "      <td>10001+</td>\n",
       "      <td>dublin, dublin, ireland</td>\n",
       "      <td>ireland</td>\n",
       "      <td>linkedin.com/company/accenture</td>\n",
       "      <td>190689</td>\n",
       "      <td>455768</td>\n",
       "    </tr>\n",
       "    <tr>\n",
       "      <th>3</th>\n",
       "      <td>2309813</td>\n",
       "      <td>us army</td>\n",
       "      <td>goarmy.com</td>\n",
       "      <td>1800.0</td>\n",
       "      <td>military</td>\n",
       "      <td>10001+</td>\n",
       "      <td>alexandria, virginia, united states</td>\n",
       "      <td>united states</td>\n",
       "      <td>linkedin.com/company/us-army</td>\n",
       "      <td>162163</td>\n",
       "      <td>445958</td>\n",
       "    </tr>\n",
       "    <tr>\n",
       "      <th>4</th>\n",
       "      <td>1558607</td>\n",
       "      <td>ey</td>\n",
       "      <td>ey.com</td>\n",
       "      <td>1989.0</td>\n",
       "      <td>accounting</td>\n",
       "      <td>10001+</td>\n",
       "      <td>london, greater london, united kingdom</td>\n",
       "      <td>united kingdom</td>\n",
       "      <td>linkedin.com/company/ernstandyoung</td>\n",
       "      <td>158363</td>\n",
       "      <td>428960</td>\n",
       "    </tr>\n",
       "    <tr>\n",
       "      <th>...</th>\n",
       "      <td>...</td>\n",
       "      <td>...</td>\n",
       "      <td>...</td>\n",
       "      <td>...</td>\n",
       "      <td>...</td>\n",
       "      <td>...</td>\n",
       "      <td>...</td>\n",
       "      <td>...</td>\n",
       "      <td>...</td>\n",
       "      <td>...</td>\n",
       "      <td>...</td>\n",
       "    </tr>\n",
       "    <tr>\n",
       "      <th>7173404</th>\n",
       "      <td>5101935</td>\n",
       "      <td>squad sp. z o. o.</td>\n",
       "      <td>squad.com.pl</td>\n",
       "      <td>2013.0</td>\n",
       "      <td>internet</td>\n",
       "      <td>1 - 10</td>\n",
       "      <td>litzmannstadt, lodzkie, poland</td>\n",
       "      <td>poland</td>\n",
       "      <td>linkedin.com/company/squad-sp.-z-o.-o.</td>\n",
       "      <td>0</td>\n",
       "      <td>1</td>\n",
       "    </tr>\n",
       "    <tr>\n",
       "      <th>7173411</th>\n",
       "      <td>4768458</td>\n",
       "      <td>fuller, hadeed, &amp; ros-planas, pllc</td>\n",
       "      <td>fhrlaw.com</td>\n",
       "      <td>2015.0</td>\n",
       "      <td>law practice</td>\n",
       "      <td>1 - 10</td>\n",
       "      <td>virginia beach, virginia, united states</td>\n",
       "      <td>united states</td>\n",
       "      <td>linkedin.com/company/fhrlaw</td>\n",
       "      <td>0</td>\n",
       "      <td>2</td>\n",
       "    </tr>\n",
       "    <tr>\n",
       "      <th>7173416</th>\n",
       "      <td>3515286</td>\n",
       "      <td>fit plus s.r.o.</td>\n",
       "      <td>fitplus.sk</td>\n",
       "      <td>1993.0</td>\n",
       "      <td>health, wellness and fitness</td>\n",
       "      <td>1 - 10</td>\n",
       "      <td>bratislava, bratislavský, slovakia</td>\n",
       "      <td>slovakia</td>\n",
       "      <td>linkedin.com/company/fit-plus-s.r.o.</td>\n",
       "      <td>0</td>\n",
       "      <td>1</td>\n",
       "    </tr>\n",
       "    <tr>\n",
       "      <th>7173417</th>\n",
       "      <td>5481997</td>\n",
       "      <td>coriex srl</td>\n",
       "      <td>coriex.it</td>\n",
       "      <td>1987.0</td>\n",
       "      <td>apparel &amp; fashion</td>\n",
       "      <td>1 - 10</td>\n",
       "      <td>padova, veneto, italy</td>\n",
       "      <td>italy</td>\n",
       "      <td>linkedin.com/company/coriex-srl</td>\n",
       "      <td>0</td>\n",
       "      <td>4</td>\n",
       "    </tr>\n",
       "    <tr>\n",
       "      <th>7173422</th>\n",
       "      <td>1494429</td>\n",
       "      <td>black tiger fight club</td>\n",
       "      <td>blacktigerclub.com</td>\n",
       "      <td>2006.0</td>\n",
       "      <td>health, wellness and fitness</td>\n",
       "      <td>1 - 10</td>\n",
       "      <td>peking, beijing, china</td>\n",
       "      <td>china</td>\n",
       "      <td>linkedin.com/company/black-tiger-club-hero</td>\n",
       "      <td>0</td>\n",
       "      <td>6</td>\n",
       "    </tr>\n",
       "  </tbody>\n",
       "</table>\n",
       "<p>2535176 rows × 11 columns</p>\n",
       "</div>"
      ],
      "text/plain": [
       "         Unnamed: 0                                name              domain  \\\n",
       "0           5872184                                 ibm             ibm.com   \n",
       "1           4425416           tata consultancy services             tcs.com   \n",
       "2             21074                           accenture       accenture.com   \n",
       "3           2309813                             us army          goarmy.com   \n",
       "4           1558607                                  ey              ey.com   \n",
       "...             ...                                 ...                 ...   \n",
       "7173404     5101935                   squad sp. z o. o.        squad.com.pl   \n",
       "7173411     4768458  fuller, hadeed, & ros-planas, pllc          fhrlaw.com   \n",
       "7173416     3515286                     fit plus s.r.o.          fitplus.sk   \n",
       "7173417     5481997                          coriex srl           coriex.it   \n",
       "7173422     1494429              black tiger fight club  blacktigerclub.com   \n",
       "\n",
       "         year founded                             industry size range  \\\n",
       "0              1911.0  information technology and services     10001+   \n",
       "1              1968.0  information technology and services     10001+   \n",
       "2              1989.0  information technology and services     10001+   \n",
       "3              1800.0                             military     10001+   \n",
       "4              1989.0                           accounting     10001+   \n",
       "...               ...                                  ...        ...   \n",
       "7173404        2013.0                             internet     1 - 10   \n",
       "7173411        2015.0                         law practice     1 - 10   \n",
       "7173416        1993.0         health, wellness and fitness     1 - 10   \n",
       "7173417        1987.0                    apparel & fashion     1 - 10   \n",
       "7173422        2006.0         health, wellness and fitness     1 - 10   \n",
       "\n",
       "                                        locality         country  \\\n",
       "0              new york, new york, united states   united states   \n",
       "1                     bombay, maharashtra, india           india   \n",
       "2                        dublin, dublin, ireland         ireland   \n",
       "3            alexandria, virginia, united states   united states   \n",
       "4         london, greater london, united kingdom  united kingdom   \n",
       "...                                          ...             ...   \n",
       "7173404           litzmannstadt, lodzkie, poland          poland   \n",
       "7173411  virginia beach, virginia, united states   united states   \n",
       "7173416       bratislava, bratislavský, slovakia        slovakia   \n",
       "7173417                    padova, veneto, italy           italy   \n",
       "7173422                   peking, beijing, china           china   \n",
       "\n",
       "                                           linkedin url  \\\n",
       "0                              linkedin.com/company/ibm   \n",
       "1        linkedin.com/company/tata-consultancy-services   \n",
       "2                        linkedin.com/company/accenture   \n",
       "3                          linkedin.com/company/us-army   \n",
       "4                    linkedin.com/company/ernstandyoung   \n",
       "...                                                 ...   \n",
       "7173404          linkedin.com/company/squad-sp.-z-o.-o.   \n",
       "7173411                     linkedin.com/company/fhrlaw   \n",
       "7173416            linkedin.com/company/fit-plus-s.r.o.   \n",
       "7173417                 linkedin.com/company/coriex-srl   \n",
       "7173422      linkedin.com/company/black-tiger-club-hero   \n",
       "\n",
       "         current employee estimate  total employee estimate  \n",
       "0                           274047                   716906  \n",
       "1                           190771                   341369  \n",
       "2                           190689                   455768  \n",
       "3                           162163                   445958  \n",
       "4                           158363                   428960  \n",
       "...                            ...                      ...  \n",
       "7173404                          0                        1  \n",
       "7173411                          0                        2  \n",
       "7173416                          0                        1  \n",
       "7173417                          0                        4  \n",
       "7173422                          0                        6  \n",
       "\n",
       "[2535176 rows x 11 columns]"
      ]
     },
     "execution_count": 25,
     "metadata": {},
     "output_type": "execute_result"
    }
   ],
   "source": [
    "df_dropped"
   ]
  },
  {
   "cell_type": "code",
   "execution_count": 26,
   "id": "fee70b1d",
   "metadata": {},
   "outputs": [
    {
     "data": {
      "text/html": [
       "<div>\n",
       "<style scoped>\n",
       "    .dataframe tbody tr th:only-of-type {\n",
       "        vertical-align: middle;\n",
       "    }\n",
       "\n",
       "    .dataframe tbody tr th {\n",
       "        vertical-align: top;\n",
       "    }\n",
       "\n",
       "    .dataframe thead th {\n",
       "        text-align: right;\n",
       "    }\n",
       "</style>\n",
       "<table border=\"1\" class=\"dataframe\">\n",
       "  <thead>\n",
       "    <tr style=\"text-align: right;\">\n",
       "      <th></th>\n",
       "      <th>Unnamed: 0</th>\n",
       "      <th>year founded</th>\n",
       "      <th>current employee estimate</th>\n",
       "      <th>total employee estimate</th>\n",
       "    </tr>\n",
       "  </thead>\n",
       "  <tbody>\n",
       "    <tr>\n",
       "      <th>count</th>\n",
       "      <td>7.173426e+06</td>\n",
       "      <td>3.566446e+06</td>\n",
       "      <td>7.173426e+06</td>\n",
       "      <td>7.173426e+06</td>\n",
       "    </tr>\n",
       "    <tr>\n",
       "      <th>mean</th>\n",
       "      <td>3.586712e+06</td>\n",
       "      <td>2.001747e+03</td>\n",
       "      <td>1.387121e+01</td>\n",
       "      <td>3.225438e+01</td>\n",
       "    </tr>\n",
       "    <tr>\n",
       "      <th>std</th>\n",
       "      <td>2.070790e+06</td>\n",
       "      <td>2.096627e+01</td>\n",
       "      <td>3.545919e+02</td>\n",
       "      <td>8.741556e+02</td>\n",
       "    </tr>\n",
       "    <tr>\n",
       "      <th>min</th>\n",
       "      <td>0.000000e+00</td>\n",
       "      <td>1.451000e+03</td>\n",
       "      <td>0.000000e+00</td>\n",
       "      <td>1.000000e+00</td>\n",
       "    </tr>\n",
       "    <tr>\n",
       "      <th>25%</th>\n",
       "      <td>1.793356e+06</td>\n",
       "      <td>1.999000e+03</td>\n",
       "      <td>1.000000e+00</td>\n",
       "      <td>1.000000e+00</td>\n",
       "    </tr>\n",
       "    <tr>\n",
       "      <th>50%</th>\n",
       "      <td>3.586712e+06</td>\n",
       "      <td>2.009000e+03</td>\n",
       "      <td>1.000000e+00</td>\n",
       "      <td>2.000000e+00</td>\n",
       "    </tr>\n",
       "    <tr>\n",
       "      <th>75%</th>\n",
       "      <td>5.380069e+06</td>\n",
       "      <td>2.013000e+03</td>\n",
       "      <td>4.000000e+00</td>\n",
       "      <td>7.000000e+00</td>\n",
       "    </tr>\n",
       "    <tr>\n",
       "      <th>max</th>\n",
       "      <td>7.173425e+06</td>\n",
       "      <td>2.103000e+03</td>\n",
       "      <td>2.740470e+05</td>\n",
       "      <td>7.169060e+05</td>\n",
       "    </tr>\n",
       "  </tbody>\n",
       "</table>\n",
       "</div>"
      ],
      "text/plain": [
       "         Unnamed: 0  year founded  current employee estimate  \\\n",
       "count  7.173426e+06  3.566446e+06               7.173426e+06   \n",
       "mean   3.586712e+06  2.001747e+03               1.387121e+01   \n",
       "std    2.070790e+06  2.096627e+01               3.545919e+02   \n",
       "min    0.000000e+00  1.451000e+03               0.000000e+00   \n",
       "25%    1.793356e+06  1.999000e+03               1.000000e+00   \n",
       "50%    3.586712e+06  2.009000e+03               1.000000e+00   \n",
       "75%    5.380069e+06  2.013000e+03               4.000000e+00   \n",
       "max    7.173425e+06  2.103000e+03               2.740470e+05   \n",
       "\n",
       "       total employee estimate  \n",
       "count             7.173426e+06  \n",
       "mean              3.225438e+01  \n",
       "std               8.741556e+02  \n",
       "min               1.000000e+00  \n",
       "25%               1.000000e+00  \n",
       "50%               2.000000e+00  \n",
       "75%               7.000000e+00  \n",
       "max               7.169060e+05  "
      ]
     },
     "execution_count": 26,
     "metadata": {},
     "output_type": "execute_result"
    }
   ],
   "source": [
    "df.describe()"
   ]
  },
  {
   "cell_type": "markdown",
   "id": "7262718d",
   "metadata": {},
   "source": [
    "# UNIVARIATE ANALYSIS"
   ]
  },
  {
   "cell_type": "markdown",
   "id": "90932ec0",
   "metadata": {},
   "source": [
    "## Catagorical data"
   ]
  },
  {
   "cell_type": "markdown",
   "id": "28bc814b",
   "metadata": {},
   "source": [
    "### COUNTPLOT"
   ]
  },
  {
   "cell_type": "code",
   "execution_count": 27,
   "id": "815d6110",
   "metadata": {},
   "outputs": [
    {
     "name": "stderr",
     "output_type": "stream",
     "text": [
      "C:\\Users\\Anish Pathak\\anaconda3\\lib\\site-packages\\seaborn\\_decorators.py:36: FutureWarning: Pass the following variable as a keyword arg: x. From version 0.12, the only valid positional argument will be `data`, and passing other arguments without an explicit keyword will result in an error or misinterpretation.\n",
      "  warnings.warn(\n"
     ]
    },
    {
     "data": {
      "text/plain": [
       "<AxesSubplot:xlabel='industry', ylabel='count'>"
      ]
     },
     "execution_count": 27,
     "metadata": {},
     "output_type": "execute_result"
    },
    {
     "data": {
      "image/png": "[encoded data removed]",
      "text/plain": [
       "<Figure size 432x288 with 1 Axes>"
      ]
     },
     "metadata": {
      "needs_background": "light"
     },
     "output_type": "display_data"
    }
   ],
   "source": [
    "sns.countplot(dm['industry'])\n",
    "dm['country'].value_counts().plot(kind='bar')"
   ]
  },
  {
   "cell_type": "markdown",
   "id": "8bc00c65",
   "metadata": {},
   "source": [
    "### PIECHART"
   ]
  },
  {
   "cell_type": "code",
   "execution_count": 28,
   "id": "50ddfe93",
   "metadata": {},
   "outputs": [
    {
     "data": {
      "text/plain": [
       "<AxesSubplot:ylabel='country'>"
      ]
     },
     "execution_count": 28,
     "metadata": {},
     "output_type": "execute_result"
    },
    {
     "data": {
      "image/png": "[encoded data removed]",
      "text/plain": [
       "<Figure size 432x288 with 1 Axes>"
      ]
     },
     "metadata": {},
     "output_type": "display_data"
    }
   ],
   "source": [
    "dm['country'].value_counts().plot(kind='pie', autopct='%.2f')"
   ]
  },
  {
   "cell_type": "markdown",
   "id": "a516ce7e",
   "metadata": {},
   "source": [
    "## NUMERICAL DATA"
   ]
  },
  {
   "cell_type": "markdown",
   "id": "9f456398",
   "metadata": {},
   "source": [
    "### HISTOGRAM"
   ]
  },
  {
   "cell_type": "code",
   "execution_count": 29,
   "id": "807efd9a",
   "metadata": {},
   "outputs": [
    {
     "data": {
      "text/plain": [
       "(array([4., 1., 0., 0., 0., 2., 0., 0., 0., 2., 0., 0., 0., 0., 0., 0., 0.,\n",
       "        0., 0., 1.]),\n",
       " array([115188.  , 123130.95, 131073.9 , 139016.85, 146959.8 , 154902.75,\n",
       "        162845.7 , 170788.65, 178731.6 , 186674.55, 194617.5 , 202560.45,\n",
       "        210503.4 , 218446.35, 226389.3 , 234332.25, 242275.2 , 250218.15,\n",
       "        258161.1 , 266104.05, 274047.  ]),\n",
       " <BarContainer object of 20 artists>)"
      ]
     },
     "execution_count": 29,
     "metadata": {},
     "output_type": "execute_result"
    },
    {
     "data": {
      "image/png": "[encoded data removed]",
      "text/plain": [
       "<Figure size 432x288 with 1 Axes>"
      ]
     },
     "metadata": {
      "needs_background": "light"
     },
     "output_type": "display_data"
    }
   ],
   "source": [
    "plt.hist(dm['current employee estimate'], bins=20)"
   ]
  },
  {
   "cell_type": "markdown",
   "id": "dd28df36",
   "metadata": {},
   "source": [
    "### DISTPLOT"
   ]
  },
  {
   "cell_type": "code",
   "execution_count": 30,
   "id": "76db4b25",
   "metadata": {},
   "outputs": [
    {
     "name": "stderr",
     "output_type": "stream",
     "text": [
      "C:\\Users\\Anish Pathak\\anaconda3\\lib\\site-packages\\seaborn\\distributions.py:2619: FutureWarning: `distplot` is a deprecated function and will be removed in a future version. Please adapt your code to use either `displot` (a figure-level function with similar flexibility) or `histplot` (an axes-level function for histograms).\n",
      "  warnings.warn(msg, FutureWarning)\n"
     ]
    },
    {
     "data": {
      "text/plain": [
       "<AxesSubplot:xlabel='current employee estimate', ylabel='Density'>"
      ]
     },
     "execution_count": 30,
     "metadata": {},
     "output_type": "execute_result"
    },
    {
     "data": {
      "image/png": "[encoded data removed]",
      "text/plain": [
       "<Figure size 432x288 with 1 Axes>"
      ]
     },
     "metadata": {
      "needs_background": "light"
     },
     "output_type": "display_data"
    }
   ],
   "source": [
    "sns.distplot(dm['current employee estimate'])"
   ]
  },
  {
   "cell_type": "markdown",
   "id": "d99ccded",
   "metadata": {},
   "source": [
    "### BOXPLOT"
   ]
  },
  {
   "cell_type": "code",
   "execution_count": 31,
   "id": "64bbf73a",
   "metadata": {},
   "outputs": [
    {
     "name": "stderr",
     "output_type": "stream",
     "text": [
      "C:\\Users\\Anish Pathak\\anaconda3\\lib\\site-packages\\seaborn\\_decorators.py:36: FutureWarning: Pass the following variable as a keyword arg: x. From version 0.12, the only valid positional argument will be `data`, and passing other arguments without an explicit keyword will result in an error or misinterpretation.\n",
      "  warnings.warn(\n"
     ]
    },
    {
     "data": {
      "text/plain": [
       "<AxesSubplot:xlabel='current employee estimate'>"
      ]
     },
     "execution_count": 31,
     "metadata": {},
     "output_type": "execute_result"
    },
    {
     "data": {
      "image/png": "[encoded data removed]",
      "text/plain": [
       "<Figure size 432x288 with 1 Axes>"
      ]
     },
     "metadata": {
      "needs_background": "light"
     },
     "output_type": "display_data"
    }
   ],
   "source": [
    "sns.boxplot(dm['current employee estimate'])"
   ]
  },
  {
   "cell_type": "code",
   "execution_count": 32,
   "id": "cd37cfb6",
   "metadata": {},
   "outputs": [
    {
     "data": {
      "text/plain": [
       "0"
      ]
     },
     "execution_count": 32,
     "metadata": {},
     "output_type": "execute_result"
    }
   ],
   "source": [
    "df['current employee estimate'].min()"
   ]
  },
  {
   "cell_type": "code",
   "execution_count": 33,
   "id": "a7fdb781",
   "metadata": {},
   "outputs": [
    {
     "data": {
      "text/plain": [
       "274047"
      ]
     },
     "execution_count": 33,
     "metadata": {},
     "output_type": "execute_result"
    }
   ],
   "source": [
    "df['current employee estimate'].max()"
   ]
  },
  {
   "cell_type": "code",
   "execution_count": 34,
   "id": "80faad50",
   "metadata": {},
   "outputs": [
    {
     "data": {
      "text/plain": [
       "13.871209935113292"
      ]
     },
     "execution_count": 34,
     "metadata": {},
     "output_type": "execute_result"
    }
   ],
   "source": [
    "df['current employee estimate'].mean()"
   ]
  },
  {
   "cell_type": "code",
   "execution_count": 35,
   "id": "a95f42a9",
   "metadata": {},
   "outputs": [
    {
     "data": {
      "text/plain": [
       "254.83106894323177"
      ]
     },
     "execution_count": 35,
     "metadata": {},
     "output_type": "execute_result"
    }
   ],
   "source": [
    "df['current employee estimate'].skew()"
   ]
  },
  {
   "cell_type": "markdown",
   "id": "8e910e34",
   "metadata": {},
   "source": [
    "### STRIP PLOT"
   ]
  },
  {
   "cell_type": "code",
   "execution_count": 36,
   "id": "36f8b539",
   "metadata": {},
   "outputs": [
    {
     "data": {
      "text/plain": [
       "<AxesSubplot:xlabel='current employee estimate'>"
      ]
     },
     "execution_count": 36,
     "metadata": {},
     "output_type": "execute_result"
    },
    {
     "data": {
      "image/png": "[encoded data removed]",
      "text/plain": [
       "<Figure size 432x288 with 1 Axes>"
      ]
     },
     "metadata": {
      "needs_background": "light"
     },
     "output_type": "display_data"
    }
   ],
   "source": [
    "\n",
    "sns.stripplot(x=df['current employee estimate'])"
   ]
  },
  {
   "cell_type": "markdown",
   "id": "8b304497",
   "metadata": {},
   "source": [
    "### VIOLINE PLOT - box and kernel"
   ]
  },
  {
   "cell_type": "code",
   "execution_count": 37,
   "id": "33bb27ac",
   "metadata": {},
   "outputs": [
    {
     "data": {
      "text/plain": [
       "<AxesSubplot:xlabel='current employee estimate'>"
      ]
     },
     "execution_count": 37,
     "metadata": {},
     "output_type": "execute_result"
    },
    {
     "data": {
      "image/png": "[encoded data removed]",
      "text/plain": [
       "<Figure size 432x288 with 1 Axes>"
      ]
     },
     "metadata": {
      "needs_background": "light"
     },
     "output_type": "display_data"
    }
   ],
   "source": [
    "sns.violinplot(x=df['current employee estimate'])"
   ]
  }
 ],
 "metadata": {
  "kernelspec": {
   "display_name": "Python 3 (ipykernel)",
   "language": "python",
   "name": "python3"
  },
  "language_info": {
   "codemirror_mode": {
    "name": "ipython",
    "version": 3
   },
   "file_extension": ".py",
   "mimetype": "text/x-python",
   "name": "python",
   "nbconvert_exporter": "python",
   "pygments_lexer": "ipython3",
   "version": "3.9.7"
  }
 },
 "nbformat": 4,
 "nbformat_minor": 5
}
